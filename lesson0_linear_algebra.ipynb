{
 "cells": [
  {
   "cell_type": "markdown",
   "metadata": {},
   "source": [
    "Using https://docs.julialang.org/en/v1/stdlib/LinearAlgebra/\n",
    "\n",
    "Basic operations on vectors and matrices (lesson 0 of MTH8302)"
   ]
  },
  {
   "cell_type": "code",
   "execution_count": 269,
   "metadata": {},
   "outputs": [],
   "source": [
    "using LinearAlgebra"
   ]
  },
  {
   "cell_type": "markdown",
   "metadata": {},
   "source": [
    "<h3> Vectors"
   ]
  },
  {
   "cell_type": "code",
   "execution_count": 270,
   "metadata": {},
   "outputs": [
    {
     "name": "stdout",
     "output_type": "stream",
     "text": [
      "sum: [11, 10, 5]\n",
      "product: [99, 198, 297]\n",
      "dot product: 32\n",
      "dot product with transpose: 32"
     ]
    }
   ],
   "source": [
    "vector1 = [1, 2, 3]\n",
    "vector2 = [10, 8, 2]\n",
    "\n",
    "# Vector addition\n",
    "sum = vector1 + vector2\n",
    "print(\"sum: \", sum)\n",
    "\n",
    "# Vector multiplication by a scalar\n",
    "product = vector1 * 99\n",
    "print(\"\\nproduct: \", product)\n",
    "\n",
    "# Vector dot product\n",
    "dot_product = dot(vector1, vector2)\n",
    "print(\"\\ndot product: \", dot_product)\n",
    "\n",
    "dot_product2 = vector1' * vector2\n",
    "print(\"\\ndot product with transpose: \", dot_product2)"
   ]
  },
  {
   "cell_type": "code",
   "execution_count": 271,
   "metadata": {},
   "outputs": [
    {
     "name": "stdout",
     "output_type": "stream",
     "text": [
      "3×5 Matrix{Float64}:\n",
      " 2.0  2.0  2.0  2.0  2.0\n",
      " 3.0  3.0  3.0  3.0  3.0\n",
      " 4.0  4.0  4.0  4.0  4.0\n",
      "3×5 Matrix{Float64}:\n",
      " 2.0  2.0  2.0  2.0  2.0\n",
      " 3.0  3.0  3.0  3.0  3.0\n",
      " 4.0  4.0  4.0  4.0  4.0"
     ]
    }
   ],
   "source": [
    "v1 = [2, 3, 4]\n",
    "v2 = ones(5)\n",
    "\n",
    "# Outer product using kron (Kronecker product) : related but inverse vector order and needs to be reshaped.\n",
    "outer_product = reshape(kron(v2,v1), (length(v1), length(v2)))\n",
    "show(stdout, \"text/plain\", outer_product)\n",
    "print(\"\\n\")\n",
    "\n",
    "# Direct outer product\n",
    "outer_product2 = v1 .* v2'\n",
    "show(stdout, \"text/plain\", outer_product2)"
   ]
  },
  {
   "cell_type": "code",
   "execution_count": 272,
   "metadata": {},
   "outputs": [
    {
     "name": "stdout",
     "output_type": "stream",
     "text": [
      "Manhattan norm : 7.0\n",
      "Euclidian norm : 5.0\n",
      "Infinity norm : 4.0"
     ]
    }
   ],
   "source": [
    "v1 = [3, 4]\n",
    "\n",
    "# Norm function to calculate different norms of a vector.\n",
    "norm1 = norm(v1, 1)\n",
    "norm2 = norm(v1, 2)\n",
    "norm_inf = norm(v1, Inf)\n",
    "\n",
    "print(\"Manhattan norm : \", norm1)\n",
    "print(\"\\nEuclidian norm : \", norm2)\n",
    "print(\"\\nInfinity norm : \", norm_inf)"
   ]
  },
  {
   "cell_type": "markdown",
   "metadata": {},
   "source": [
    "<h3> Matrices"
   ]
  },
  {
   "cell_type": "code",
   "execution_count": 273,
   "metadata": {},
   "outputs": [
    {
     "name": "stdout",
     "output_type": "stream",
     "text": [
      "2×2 Matrix{Float64}:\n",
      " 2.0  3.0\n",
      " 4.0  6.0\n",
      "2×2 Matrix{Int64}:\n",
      " 2   4\n",
      " 6  10\n",
      "2-element Vector{Float64}:\n",
      " 4.0\n",
      " 4.03×2 Matrix{Int64}:\n",
      " 25   28\n",
      " 57   64\n",
      " 89  100"
     ]
    }
   ],
   "source": [
    "matrix1 = ones(2,2)\n",
    "matrix2 = [1 2; 3 5]\n",
    "v = [3, 1]\n",
    "\n",
    "# Matrix addition\n",
    "sum = matrix1 + matrix2\n",
    "show(stdout, \"text/plain\", sum)\n",
    "print(\"\\n\")\n",
    "\n",
    "# Matrix multiplication by a scalar\n",
    "product = matrix2 * 2\n",
    "show(stdout, \"text/plain\", product)\n",
    "print(\"\\n\")\n",
    "\n",
    "# Matrix multiplication of a vector\n",
    "matrix_vector_product = matrix1 * v\n",
    "show(stdout, \"text/plain\", matrix_vector_product)\n",
    "\n",
    "# Product of two matrices\n",
    "a = [1 2; 3 4; 5 6]\n",
    "b = [7 8; 9 10]\n",
    "c = a * b\n",
    "show(stdout, \"text/plain\", c)\n"
   ]
  },
  {
   "cell_type": "code",
   "execution_count": 274,
   "metadata": {},
   "outputs": [
    {
     "name": "stdout",
     "output_type": "stream",
     "text": [
      "3×4 Matrix{Float64}:\n",
      " 1.0  1.0  1.0  1.0\n",
      " 1.0  1.0  1.0  1.0\n",
      " 1.0  1.0  1.0  1.0\n",
      "3×3 Diagonal{Int64, Vector{Int64}}:\n",
      " 3  ⋅  ⋅\n",
      " ⋅  6  ⋅\n",
      " ⋅  ⋅  9"
     ]
    }
   ],
   "source": [
    "# Identity matrix\n",
    "id_matrix = ones(3, 4)\n",
    "show(stdout, \"text/plain\", id_matrix)\n",
    "\n",
    "# Diagonal matrix\n",
    "d = [3; 6; 9]\n",
    "diag_matrix = Diagonal(d)\n",
    "print(\"\\n\")\n",
    "show(stdout, \"text/plain\", diag_matrix)"
   ]
  },
  {
   "cell_type": "code",
   "execution_count": 275,
   "metadata": {},
   "outputs": [
    {
     "name": "stdout",
     "output_type": "stream",
     "text": [
      "\n",
      "2×2 Matrix{Int64}:\n",
      " 2  4\n",
      " 2  4\n",
      "2×2 adjoint(::Matrix{Int64}) with eltype Int64:\n",
      " 2  2\n",
      " 4  4\n",
      "Is m symmetrical? false\n",
      "Is m symmetrical? true"
     ]
    }
   ],
   "source": [
    "# Transpose a matrix\n",
    "m = [2 4; 2 4]\n",
    "print(\"\\n\")\n",
    "show(stdout, \"text/plain\", m)\n",
    "print(\"\\n\")\n",
    "show(stdout, \"text/plain\", m')\n",
    "\n",
    "# Check for symmetry\n",
    "s = [1 2 3; 2 5 6; 3 6 0]\n",
    "print(\"\\nIs m symmetrical? \", issymmetric(m)) # not symmetrical\n",
    "print(\"\\nIs m symmetrical? \", issymmetric(s)) # symmetrical"
   ]
  },
  {
   "cell_type": "code",
   "execution_count": 276,
   "metadata": {},
   "outputs": [
    {
     "name": "stdout",
     "output_type": "stream",
     "text": [
      "Trace: 7\n",
      "Determinant: -6.0\n",
      "Frobenius: 8.366600265340756\n",
      "Manhattan: 16.0\n",
      "Infinity: 6.0\n",
      "Minus Infinity: 3.0"
     ]
    }
   ],
   "source": [
    "m = [4 3; 6 3]\n",
    "\n",
    "# Trace of a matrix\n",
    "trace = tr(m)\n",
    "print(\"Trace: \", trace)\n",
    "\n",
    "# Determinant of a matrix\n",
    "determinant = det(m)\n",
    "print(\"\\nDeterminant: \", determinant)\n",
    "\n",
    "# Matrix norms\n",
    "print(\"\\nFrobenius: \", norm(m, 2))# square root of sum of squares\n",
    "print(\"\\nManhattan: \", norm(m, 1)) # sum of absolute values\n",
    "print(\"\\nInfinity: \", norm(m, Inf)) # largest value (absolute)\n",
    "print(\"\\nMinus Infinity: \", norm(m, -Inf)) # smallest value (absolute)"
   ]
  },
  {
   "cell_type": "code",
   "execution_count": 277,
   "metadata": {},
   "outputs": [
    {
     "name": "stdout",
     "output_type": "stream",
     "text": [
      "\n",
      "Rank with rank function: 2\n",
      "Rank by counting singular values: 2\n",
      "5×5 Matrix{Float64}:\n",
      " 2.37937e10  2.99582e10  2.99753e10  2.49628e10  2.57086e10\n",
      " 2.90262e10  3.65463e10  3.65672e10  3.04524e10  3.13621e10\n",
      " 1.35108e10  1.70112e10  1.70209e10  1.41747e10  1.45981e10\n",
      " 2.60352e10  3.27805e10  3.27992e10  2.73145e10  2.81305e10\n",
      " 2.1659e10   2.72704e10  2.7286e10   2.27232e10  2.34021e10\n",
      "\n",
      "Rank with rank function: 1\n",
      "Rank by counting singular values: 5"
     ]
    }
   ],
   "source": [
    "m = [4 3; 6 3]\n",
    "\n",
    "# Rank and linear independance\n",
    "rank1 = rank(m) # NOTE: this method is not reliable for floating point values (https://discourse.julialang.org/t/how-reliable-is-rank-a/106834/5).\n",
    "print(\"\\nRank with rank function: \", rank1)\n",
    "\n",
    "# Rank for matrices with floating point values : use singular values (https://math.stackexchange.com/questions/3967922/singular-values-and-matrix-rank).\n",
    "singular_values = svdvals(m)\n",
    "rank2 = count(singular_values .!= 0) # element-wise operation (here it is a comparison)\n",
    "print(\"\\nRank by counting singular values: \", rank2)\n",
    "\n",
    "# Test floating point matrix rank.\n",
    "a = rand(5, 5) ^ 26\n",
    "print(\"\\n\")\n",
    "show(stdout, \"text/plain\", a)\n",
    "print(\"\\n\")\n",
    "\n",
    "# Small floating point values create an error in rank.\n",
    "rank1 = rank(a) \n",
    "print(\"\\nRank with rank function: \", rank1)\n",
    "\n",
    "# Recommended approach.\n",
    "singular_values = svdvals(a)\n",
    "rank2 = count(singular_values .!= 0)\n",
    "print(\"\\nRank by counting singular values: \", rank2)"
   ]
  },
  {
   "cell_type": "code",
   "execution_count": 278,
   "metadata": {},
   "outputs": [
    {
     "name": "stdout",
     "output_type": "stream",
     "text": [
      "3×3 adjoint(reshape(::UnitRange{Int64}, 3, 3)) with eltype Int64:\n",
      " 1  2  3\n",
      " 4  5  6\n",
      " 7  8  9\n",
      "false\n",
      "false"
     ]
    }
   ],
   "source": [
    "# Check for linear independance \n",
    "# https://lall.stanford.edu/engr207b/notes/julia_inverses_slides.pdf\n",
    "# The columns of A are linearly independent if and only if R has no 0 diagonal entries. (https://discourse.julialang.org/t/how-to-find-the-linearly-independent-columns-rows-of-a-matrix/109772/3)\n",
    "a = reshape(1:9, 3, 3)'\n",
    "show(stdout, \"text/plain\", a)\n",
    "print(\"\\n\")\n",
    "Q, R = qr(a)\n",
    "zero_entries = count(R .== 0)\n",
    "print(zero_entries == 0) # True if linearly independent (no zero entries)\n",
    "print(\"\\n\")\n",
    "\n",
    "# Other option: compare with rank\n",
    "min_dimension = min(size(a)[1], size(a)[2]) # 1-based indexing\n",
    "print(rank(a) == min_dimension) # True if linearly independent (rank equals smallest dimension)"
   ]
  },
  {
   "cell_type": "code",
   "execution_count": 279,
   "metadata": {},
   "outputs": [
    {
     "name": "stdout",
     "output_type": "stream",
     "text": [
      "2×2 Matrix{Int64}:\n",
      " 2  1\n",
      " 1  3\n",
      "2×2 Matrix{Float64}:\n",
      "  0.6  -0.2\n",
      " -0.2   0.4\n",
      "solution: [1.6, 1.8]"
     ]
    }
   ],
   "source": [
    "# Matrix inverse.\n",
    "a = [2 1; 1 3]\n",
    "b = [5; 7]\n",
    "\n",
    "show(stdout, \"text/plain\", a)\n",
    "print(\"\\n\")\n",
    "\n",
    "a_inv = inv(a)\n",
    "show(stdout, \"text/plain\", a_inv)\n",
    "print(\"\\n\")\n",
    "\n",
    "# Ax = b <=> x = A^-1 b\n",
    "x = a_inv * b\n",
    "print(\"solution: \", round.(x, digits=3)) # Round to avoid the numerical error."
   ]
  },
  {
   "cell_type": "code",
   "execution_count": 280,
   "metadata": {},
   "outputs": [
    {
     "name": "stdout",
     "output_type": "stream",
     "text": [
      "2×2 Matrix{Float64}:\n",
      " 0.707107  -0.707107\n",
      " 0.707107   0.707107\n",
      "Is the matrix orthogonal? true\n",
      "Is the Euclidean norm preserved? true"
     ]
    }
   ],
   "source": [
    "# Orthogonality\n",
    "theta = pi / 4\n",
    "R = [cos(theta) -sin(theta); sin(theta) cos(theta)] # Rotation matrix\n",
    "show(stdout, \"text/plain\", R)\n",
    "print(\"\\n\")\n",
    "\n",
    "# Check if R is orthogonal\n",
    "dot_product = R' * R\n",
    "print(\"Is the matrix orthogonal? \", dot_product == I) # Compare to (lazy) identity matrix\n",
    "\n",
    "# Check for preserved norm\n",
    "v = [1; 0]\n",
    "transformed_v = R * v\n",
    "\n",
    "norm_v = norm(v, 2)\n",
    "norm_transformed_v = norm(transformed_v, 2)\n",
    "print(\"\\nIs the Euclidean norm preserved? \", norm_v == norm_transformed_v)"
   ]
  },
  {
   "cell_type": "code",
   "execution_count": 281,
   "metadata": {},
   "outputs": [
    {
     "name": "stdout",
     "output_type": "stream",
     "text": [
      "Eigenvalues: [2.0, 4.0]\n",
      "Eigenvectors:\n",
      "2×2 Matrix{Float64}:\n",
      " -0.707107  0.707107\n",
      "  0.707107  0.707107\n",
      "Is A * v = lambda * v? true\n",
      "Is A * v = lambda * v? true"
     ]
    }
   ],
   "source": [
    "# Eigenvalues and eigenvectors\n",
    "A = [3 1; 1 3]\n",
    "(evals, evecs) = eigen(A)\n",
    "print(\"Eigenvalues: \", evals) # eigenvalues are returned in no set order.\n",
    "print(\"\\nEigenvectors:\\n\")\n",
    "show(stdout, \"text/plain\", evecs) # eigenvectors are returned as columns of a matrix.\n",
    "\n",
    "# Validate A * v = lambda * v for each eigenvector\n",
    "for (i, v) in enumerate(eachcol(evecs)) # Get index with enumerate function, eachcol gets every column of a matrix.\n",
    "    lambda = evals[i]\n",
    "    Av = A * v\n",
    "    lambda_v = lambda * v\n",
    "    print(\"\\nIs A * v = lambda * v? \", Av == lambda_v)\n",
    "end"
   ]
  },
  {
   "cell_type": "code",
   "execution_count": 282,
   "metadata": {},
   "outputs": [
    {
     "name": "stdout",
     "output_type": "stream",
     "text": [
      "Eigenvalues: [3.0, 5.0]\n",
      "Eigenvectors:\n",
      "2×2 Matrix{Float64}:\n",
      " -0.707107  0.707107\n",
      "  0.707107  0.707107\n",
      "Reconstructed from inverse: \n",
      "2×2 Matrix{Float64}:\n",
      " 4.0  1.0\n",
      " 1.0  4.0\n",
      "Is matrix A reconstructed from inverse? true\n",
      "Is A symmetrical? true\n",
      "Reconstructed from transposed: \n",
      "2×2 Matrix{Float64}:\n",
      " 4.0  1.0\n",
      " 1.0  4.0\n",
      "Is matrix A reconstructed from transposed? true"
     ]
    }
   ],
   "source": [
    "# Eigendecomposition of a matrix: A = P * Lambda * P^-1\n",
    "A = [4.0 1.0; 1.0 4.0]\n",
    "(evals, evecs) = eigen(A)\n",
    "print(\"Eigenvalues: \", evals) # eigenvalues are returned in no set order.\n",
    "print(\"\\nEigenvectors:\\n\")\n",
    "show(stdout, \"text/plain\", evecs) # eigenvectors are returned as columns of a matrix.\n",
    "\n",
    "Lambda = diagm(evals) # construct a diagonal matrix with evals as diagonal values\n",
    "P = evecs\n",
    "P_inv = inv(P)\n",
    "A_reconstructed = P * Lambda * P_inv\n",
    "\n",
    "print(\"\\nReconstructed from inverse: \\n\")\n",
    "show(stdout, \"text/plain\", A_reconstructed) \n",
    "print(\"\\nIs matrix A reconstructed from inverse? \", isapprox(A, A_reconstructed))\n",
    "\n",
    "# A is a symmetrical matrix : A = P * Lambda * P^T\n",
    "print(\"\\nIs A symmetrical? \", issymmetric(A))\n",
    "A_reconstructed_from_transposed = P * Lambda * P'\n",
    "print(\"\\nReconstructed from transposed: \\n\")\n",
    "show(stdout, \"text/plain\", A_reconstructed_from_transposed)\n",
    "print(\"\\nIs matrix A reconstructed from transposed? \", isapprox(A, A_reconstructed_from_transposed))\n"
   ]
  },
  {
   "cell_type": "code",
   "execution_count": 283,
   "metadata": {},
   "outputs": [
    {
     "name": "stdout",
     "output_type": "stream",
     "text": [
      "\n",
      "Is the matrix Q orthogonal? true\n",
      "Eigenvalues: [-1.0, 1.0]\n",
      "Eigenvectors:\n",
      "2×2 Matrix{Float64}:\n",
      " 0.0  1.0\n",
      " 1.0  0.0\n",
      "Lambda (diagonal of lambda values equal to +/- 1):\n",
      "2×2 Matrix{Float64}:\n",
      " -1.0  0.0\n",
      "  0.0  1.0\n",
      "Is the matrix P orthogonal? true\n",
      "Is matrix Q reconstructed from inverse? true"
     ]
    }
   ],
   "source": [
    "# Eigendecomposition of an orthogonal matrix\n",
    "\n",
    "# Q is an orthogonal matrix : A = P * Lambda * P^T where P is orthogonal and Lambda = is a diagonal of the lambda values equal to +/- 1.\n",
    "Q = [1 0; 0 -1] # reflection across x-axis\n",
    "# Check if Q is orthogonal\n",
    "dot_product = Q' * Q\n",
    "print(\"\\nIs the matrix Q orthogonal? \", dot_product == I) # Compare to (lazy) identity matrix\n",
    "\n",
    "(evals, evecs) = eigen(Q)\n",
    "print(\"\\nEigenvalues: \", evals) # eigenvalues are returned in no set order.\n",
    "print(\"\\nEigenvectors:\\n\")\n",
    "show(stdout, \"text/plain\", evecs) # eigenvectors are returned as columns of a matrix.\n",
    "\n",
    "Lambda = diagm(evals) # construct a diagonal matrix with evals as diagonal values\n",
    "print(\"\\nLambda (diagonal of lambda values equal to +/- 1):\\n\")\n",
    "show(stdout, \"text/plain\", Lambda)\n",
    "\n",
    "P = evecs\n",
    "# Check if P is orthogonal\n",
    "dot_product = P' * P\n",
    "print(\"\\nIs the matrix P orthogonal? \", dot_product == I) # Compare to (lazy) identity matrix\n",
    "\n",
    "Q_reconstructed = P * Lambda * P'\n",
    "print(\"\\nIs matrix Q reconstructed from inverse? \", isapprox(Q, Q_reconstructed))"
   ]
  },
  {
   "cell_type": "code",
   "execution_count": 284,
   "metadata": {},
   "outputs": [
    {
     "name": "stdout",
     "output_type": "stream",
     "text": [
      "Result : 18\n",
      "Is A semidefinite positive? true\n",
      "Does A have any negative eigenvalues? false"
     ]
    }
   ],
   "source": [
    "# Quadratic Matrix Form \n",
    "A = [2 1; 1 3]\n",
    "x = [1; 2]\n",
    "\n",
    "# Quadratic form\n",
    "q = x' * A * x\n",
    "print(\"Result : \", q) \n",
    "print(\"\\nIs A semidefinite positive? \", q >= 0) # >= 0, therefore it is a positive semidefinite matrix.\n",
    "\n",
    "# Validate positive semidefinite matrix with eigenvalues.\n",
    "evals = eigvals(A)\n",
    "negative_evals = count(evals .< 0)\n",
    "print(\"\\nDoes A have any negative eigenvalues? \", negative_evals != 0)"
   ]
  },
  {
   "cell_type": "code",
   "execution_count": 285,
   "metadata": {},
   "outputs": [
    {
     "name": "stdout",
     "output_type": "stream",
     "text": [
      "\n",
      "size of a vector: (2,)\n",
      "size of a matrix: (2, 2)\n",
      "transpose of a vector: [2 2]\n",
      "transpose of a matrix: [1 2; 2 1]2×2 Matrix{Int64}:\n",
      " 1  2\n",
      " 2  1\n",
      "2-element Vector{Int64}:\n",
      " 2\n",
      " 2\n",
      "1×2 Matrix{Int64}:\n",
      " 2  2\n",
      "1×2 Matrix{Float64}:\n",
      " 1.0  7.40438e-51\n",
      "1×2 Matrix{Float64}:\n",
      " 1.0  6.1474e-51\n",
      "Exact comparaison result : false\n",
      "Approximative comparison result : true"
     ]
    }
   ],
   "source": [
    "# Useful functions\n",
    "v1 = [2, 2] # column vector.\n",
    "v2 = [2 2]  # row vector.\n",
    "m = [1 2; 2 1]\n",
    "\n",
    "# Size of a vector/matrix.\n",
    "print(\"\\nsize of a vector: \", size(v1))\n",
    "print(\"\\nsize of a matrix: \", size(m))\n",
    "\n",
    "# Transpose of a vector/matrix\n",
    "print(\"\\ntranspose of a vector: \", v1')\n",
    "print(\"\\ntranspose of a matrix: \", m')\n",
    "\n",
    "# More readable display\n",
    "show(stdout, \"text/plain\", m)\n",
    "print(\"\\n\")\n",
    "show(stdout, \"text/plain\", v1)\n",
    "print(\"\\n\")\n",
    "show(stdout, \"text/plain\", v2)\n",
    "\n",
    "# Compare two vectors/matrices : possible with ==, but there can be some numerical errors that return a false result.\n",
    "v3 = [1 rand(1) * 10^-50]\n",
    "print(\"\\n\")\n",
    "show(stdout, \"text/plain\", v3)\n",
    "v4 = [1 rand(1) * 10^-50]\n",
    "print(\"\\n\")\n",
    "show(stdout, \"text/plain\", v4)\n",
    "print(\"\\nExact comparaison result : \", v3 == v4) # v3 is not exactly equal to v4.\n",
    "print(\"\\nApproximative comparison result : \",  isapprox(v3, v4, rtol = 10^-10)) # Tolerance for comparaison is 10^-10 : smaller differences are not considered."
   ]
  }
 ],
 "metadata": {
  "kernelspec": {
   "display_name": "Julia 1.11.2",
   "language": "julia",
   "name": "julia-1.11"
  },
  "language_info": {
   "file_extension": ".jl",
   "mimetype": "application/julia",
   "name": "julia",
   "version": "1.11.2"
  }
 },
 "nbformat": 4,
 "nbformat_minor": 2
}
